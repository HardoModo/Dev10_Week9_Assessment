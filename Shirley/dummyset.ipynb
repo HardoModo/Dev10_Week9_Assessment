{
 "cells": [
  {
   "cell_type": "code",
   "execution_count": 74,
   "metadata": {},
   "outputs": [],
   "source": [
    "from sklearn.datasets import load_boston,fetch_california_housing\n",
    "\n",
    "import pandas as pd\n",
    "from matplotlib import pyplot as plt\n",
    "\n",
    "from sklearn.model_selection import train_test_split\n",
    "from sklearn.linear_model import LinearRegression\n",
    "\n",
    "from sklearn.linear_model import LassoCV\n",
    "from sklearn.linear_model import RidgeCV\n",
    "from IPython.display import display\n",
    "\n",
    "pd.options.display.max_columns = None\n",
    "pd.options.display.max_rows = 100\n",
    "\n",
    "import numpy as np\n",
    "from sklearn.impute import SimpleImputer\n",
    "\n",
    "from sklearn import preprocessing\n",
    "scaler = preprocessing.StandardScaler()\n",
    "from sklearn.linear_model import LogisticRegression\n"
   ]
  },
  {
   "cell_type": "code",
   "execution_count": 75,
   "metadata": {},
   "outputs": [
    {
     "name": "stdout",
     "output_type": "stream",
     "text": [
      "0.99992911198879\n",
      "0.8856740297476693\n",
      "4912.504169217681\n",
      "0.5\n",
      "0.9988948683429519\n",
      "0.9649551649277969\n",
      "1505.8511904318118\n"
     ]
    }
   ],
   "source": [
    "from sklearn.datasets import make_regression\n",
    "from sklearn.metrics import mean_squared_error\n",
    "X, y = make_regression(n_samples=48, n_features=30, noise=10, random_state=42)\n",
    "\n",
    "X = scaler.fit_transform(X)\n",
    "lr = LinearRegression()\n",
    "\n",
    "\n",
    "Xt,Xv,yt,yv = train_test_split(X,y,test_size=0.3,random_state=0)\n",
    "\n",
    "lr.fit(Xt,yt)\n",
    "print(lr.score(Xt,yt))\n",
    "print(lr.score(Xv,yv))\n",
    "print(mean_squared_error(yv,lr.predict(Xv)))\n",
    "\n",
    "rig = RidgeCV(alphas = [0.001,0.5,1,3,5,10,50,70,100,200,300],cv=5)\n",
    "rig.fit(Xt,yt)\n",
    "\n",
    "print(rig.alpha_)\n",
    "\n",
    "print(rig.score(Xt,yt))\n",
    "print(rig.score(Xv,yv))\n",
    "print(mean_squared_error(yv,rig.predict(Xv)))"
   ]
  },
  {
   "cell_type": "code",
   "execution_count": 79,
   "metadata": {},
   "outputs": [
    {
     "name": "stdout",
     "output_type": "stream",
     "text": [
      "1.0\n",
      "0.28572067206701623\n",
      "19003.287291926623\n",
      "50.0\n",
      "0.9263951299490965\n",
      "0.2737345330875902\n",
      "19322.17660264788\n"
     ]
    }
   ],
   "source": [
    "from sklearn.datasets import make_regression\n",
    "from sklearn.metrics import mean_squared_error\n",
    "X, y = make_regression(n_samples=100, n_features=120, noise=10, random_state=42)\n",
    "\n",
    "X = scaler.fit_transform(X)\n",
    "\n",
    "lr = LinearRegression()\n",
    "\n",
    "\n",
    "Xt,Xv,yt,yv = train_test_split(X,y,test_size=0.3,random_state=0)\n",
    "\n",
    "lr.fit(Xt,yt)\n",
    "print(lr.score(Xt,yt))\n",
    "print(lr.score(Xv,yv))\n",
    "print(mean_squared_error(yv,lr.predict(Xv)))\n",
    "\n",
    "rig = RidgeCV(alphas = [0.001,0.5,1,3,5,10,50,70,100,200,300],cv=5)\n",
    "rig.fit(Xt,yt)\n",
    "\n",
    "print(rig.alpha_)\n",
    "\n",
    "print(rig.score(Xt,yt))\n",
    "print(rig.score(Xv,yv))\n",
    "print(mean_squared_error(yv,rig.predict(Xv)))"
   ]
  },
  {
   "cell_type": "code",
   "execution_count": 80,
   "metadata": {},
   "outputs": [
    {
     "name": "stdout",
     "output_type": "stream",
     "text": [
      "1.0\n",
      "0.28572067206701623\n",
      "19003.287291926623\n",
      "0.5\n",
      "0.9995705211398004\n",
      "0.994192033516442\n",
      "154.52001948359384\n"
     ]
    }
   ],
   "source": [
    "from sklearn.datasets import make_regression\n",
    "from sklearn.metrics import mean_squared_error\n",
    "X, y = make_regression(n_samples=100, n_features=120, noise=10, random_state=42)\n",
    "\n",
    "X = scaler.fit_transform(X)\n",
    "\n",
    "lr = LinearRegression()\n",
    "\n",
    "\n",
    "Xt,Xv,yt,yv = train_test_split(X,y,test_size=0.3,random_state=0)\n",
    "\n",
    "lr.fit(Xt,yt)\n",
    "print(lr.score(Xt,yt))\n",
    "print(lr.score(Xv,yv))\n",
    "print(mean_squared_error(yv,lr.predict(Xv)))\n",
    "\n",
    "las = LassoCV(alphas = [0.001,0.5,1,3,5,10,50,70,100,200,300],cv=5)\n",
    "las.fit(Xt,yt)\n",
    "\n",
    "print(las.alpha_)\n",
    "\n",
    "print(las.score(Xt,yt))\n",
    "print(las.score(Xv,yv))\n",
    "print(mean_squared_error(yv,las.predict(Xv)))"
   ]
  }
 ],
 "metadata": {
  "kernelspec": {
   "display_name": "base",
   "language": "python",
   "name": "python3"
  },
  "language_info": {
   "codemirror_mode": {
    "name": "ipython",
    "version": 3
   },
   "file_extension": ".py",
   "mimetype": "text/x-python",
   "name": "python",
   "nbconvert_exporter": "python",
   "pygments_lexer": "ipython3",
   "version": "3.9.13"
  },
  "orig_nbformat": 4
 },
 "nbformat": 4,
 "nbformat_minor": 2
}
