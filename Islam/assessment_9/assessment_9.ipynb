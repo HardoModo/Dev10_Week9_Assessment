{
 "cells": [
  {
   "cell_type": "code",
   "execution_count": 131,
   "id": "1765de4c",
   "metadata": {},
   "outputs": [],
   "source": [
    "import pandas as pd\n",
    "from matplotlib import pyplot as plt\n",
    "from IPython.display import display\n",
    "from sklearn.model_selection import train_test_split\n",
    "from sklearn.metrics import (\n",
    "    mean_absolute_error,\n",
    "    mean_squared_error,\n",
    "    r2_score,)\n",
    "\n",
    "cars = pd.read_csv('data/Cars93.csv')"
   ]
  },
  {
   "cell_type": "code",
   "execution_count": 132,
   "id": "6d0a964f",
   "metadata": {
    "scrolled": false
   },
   "outputs": [
    {
     "data": {
      "text/html": [
       "<div>\n",
       "<style scoped>\n",
       "    .dataframe tbody tr th:only-of-type {\n",
       "        vertical-align: middle;\n",
       "    }\n",
       "\n",
       "    .dataframe tbody tr th {\n",
       "        vertical-align: top;\n",
       "    }\n",
       "\n",
       "    .dataframe thead th {\n",
       "        text-align: right;\n",
       "    }\n",
       "</style>\n",
       "<table border=\"1\" class=\"dataframe\">\n",
       "  <thead>\n",
       "    <tr style=\"text-align: right;\">\n",
       "      <th></th>\n",
       "      <th>Unnamed: 0</th>\n",
       "      <th>Manufacturer</th>\n",
       "      <th>Model</th>\n",
       "      <th>Type</th>\n",
       "      <th>Min.Price</th>\n",
       "      <th>Price</th>\n",
       "      <th>Max.Price</th>\n",
       "      <th>MPG.city</th>\n",
       "      <th>MPG.highway</th>\n",
       "      <th>AirBags</th>\n",
       "      <th>...</th>\n",
       "      <th>Passengers</th>\n",
       "      <th>Length</th>\n",
       "      <th>Wheelbase</th>\n",
       "      <th>Width</th>\n",
       "      <th>Turn.circle</th>\n",
       "      <th>Rear.seat.room</th>\n",
       "      <th>Luggage.room</th>\n",
       "      <th>Weight</th>\n",
       "      <th>Origin</th>\n",
       "      <th>Make</th>\n",
       "    </tr>\n",
       "  </thead>\n",
       "  <tbody>\n",
       "    <tr>\n",
       "      <th>0</th>\n",
       "      <td>1</td>\n",
       "      <td>Acura</td>\n",
       "      <td>Integra</td>\n",
       "      <td>Small</td>\n",
       "      <td>12.9</td>\n",
       "      <td>15.9</td>\n",
       "      <td>18.8</td>\n",
       "      <td>25</td>\n",
       "      <td>31</td>\n",
       "      <td>None</td>\n",
       "      <td>...</td>\n",
       "      <td>5</td>\n",
       "      <td>177</td>\n",
       "      <td>102</td>\n",
       "      <td>68</td>\n",
       "      <td>37</td>\n",
       "      <td>26.5</td>\n",
       "      <td>11.0</td>\n",
       "      <td>2705</td>\n",
       "      <td>non-USA</td>\n",
       "      <td>Acura Integra</td>\n",
       "    </tr>\n",
       "    <tr>\n",
       "      <th>1</th>\n",
       "      <td>2</td>\n",
       "      <td>Acura</td>\n",
       "      <td>Legend</td>\n",
       "      <td>Midsize</td>\n",
       "      <td>29.2</td>\n",
       "      <td>33.9</td>\n",
       "      <td>38.7</td>\n",
       "      <td>18</td>\n",
       "      <td>25</td>\n",
       "      <td>Driver &amp; Passenger</td>\n",
       "      <td>...</td>\n",
       "      <td>5</td>\n",
       "      <td>195</td>\n",
       "      <td>115</td>\n",
       "      <td>71</td>\n",
       "      <td>38</td>\n",
       "      <td>30.0</td>\n",
       "      <td>15.0</td>\n",
       "      <td>3560</td>\n",
       "      <td>non-USA</td>\n",
       "      <td>Acura Legend</td>\n",
       "    </tr>\n",
       "    <tr>\n",
       "      <th>2</th>\n",
       "      <td>3</td>\n",
       "      <td>Audi</td>\n",
       "      <td>90</td>\n",
       "      <td>Compact</td>\n",
       "      <td>25.9</td>\n",
       "      <td>29.1</td>\n",
       "      <td>32.3</td>\n",
       "      <td>20</td>\n",
       "      <td>26</td>\n",
       "      <td>Driver only</td>\n",
       "      <td>...</td>\n",
       "      <td>5</td>\n",
       "      <td>180</td>\n",
       "      <td>102</td>\n",
       "      <td>67</td>\n",
       "      <td>37</td>\n",
       "      <td>28.0</td>\n",
       "      <td>14.0</td>\n",
       "      <td>3375</td>\n",
       "      <td>non-USA</td>\n",
       "      <td>Audi 90</td>\n",
       "    </tr>\n",
       "    <tr>\n",
       "      <th>3</th>\n",
       "      <td>4</td>\n",
       "      <td>Audi</td>\n",
       "      <td>100</td>\n",
       "      <td>Midsize</td>\n",
       "      <td>30.8</td>\n",
       "      <td>37.7</td>\n",
       "      <td>44.6</td>\n",
       "      <td>19</td>\n",
       "      <td>26</td>\n",
       "      <td>Driver &amp; Passenger</td>\n",
       "      <td>...</td>\n",
       "      <td>6</td>\n",
       "      <td>193</td>\n",
       "      <td>106</td>\n",
       "      <td>70</td>\n",
       "      <td>37</td>\n",
       "      <td>31.0</td>\n",
       "      <td>17.0</td>\n",
       "      <td>3405</td>\n",
       "      <td>non-USA</td>\n",
       "      <td>Audi 100</td>\n",
       "    </tr>\n",
       "    <tr>\n",
       "      <th>4</th>\n",
       "      <td>5</td>\n",
       "      <td>BMW</td>\n",
       "      <td>535i</td>\n",
       "      <td>Midsize</td>\n",
       "      <td>23.7</td>\n",
       "      <td>30.0</td>\n",
       "      <td>36.2</td>\n",
       "      <td>22</td>\n",
       "      <td>30</td>\n",
       "      <td>Driver only</td>\n",
       "      <td>...</td>\n",
       "      <td>4</td>\n",
       "      <td>186</td>\n",
       "      <td>109</td>\n",
       "      <td>69</td>\n",
       "      <td>39</td>\n",
       "      <td>27.0</td>\n",
       "      <td>13.0</td>\n",
       "      <td>3640</td>\n",
       "      <td>non-USA</td>\n",
       "      <td>BMW 535i</td>\n",
       "    </tr>\n",
       "    <tr>\n",
       "      <th>...</th>\n",
       "      <td>...</td>\n",
       "      <td>...</td>\n",
       "      <td>...</td>\n",
       "      <td>...</td>\n",
       "      <td>...</td>\n",
       "      <td>...</td>\n",
       "      <td>...</td>\n",
       "      <td>...</td>\n",
       "      <td>...</td>\n",
       "      <td>...</td>\n",
       "      <td>...</td>\n",
       "      <td>...</td>\n",
       "      <td>...</td>\n",
       "      <td>...</td>\n",
       "      <td>...</td>\n",
       "      <td>...</td>\n",
       "      <td>...</td>\n",
       "      <td>...</td>\n",
       "      <td>...</td>\n",
       "      <td>...</td>\n",
       "      <td>...</td>\n",
       "    </tr>\n",
       "    <tr>\n",
       "      <th>88</th>\n",
       "      <td>89</td>\n",
       "      <td>Volkswagen</td>\n",
       "      <td>Eurovan</td>\n",
       "      <td>Van</td>\n",
       "      <td>16.6</td>\n",
       "      <td>19.7</td>\n",
       "      <td>22.7</td>\n",
       "      <td>17</td>\n",
       "      <td>21</td>\n",
       "      <td>None</td>\n",
       "      <td>...</td>\n",
       "      <td>7</td>\n",
       "      <td>187</td>\n",
       "      <td>115</td>\n",
       "      <td>72</td>\n",
       "      <td>38</td>\n",
       "      <td>34.0</td>\n",
       "      <td>NaN</td>\n",
       "      <td>3960</td>\n",
       "      <td>non-USA</td>\n",
       "      <td>Volkswagen Eurovan</td>\n",
       "    </tr>\n",
       "    <tr>\n",
       "      <th>89</th>\n",
       "      <td>90</td>\n",
       "      <td>Volkswagen</td>\n",
       "      <td>Passat</td>\n",
       "      <td>Compact</td>\n",
       "      <td>17.6</td>\n",
       "      <td>20.0</td>\n",
       "      <td>22.4</td>\n",
       "      <td>21</td>\n",
       "      <td>30</td>\n",
       "      <td>None</td>\n",
       "      <td>...</td>\n",
       "      <td>5</td>\n",
       "      <td>180</td>\n",
       "      <td>103</td>\n",
       "      <td>67</td>\n",
       "      <td>35</td>\n",
       "      <td>31.5</td>\n",
       "      <td>14.0</td>\n",
       "      <td>2985</td>\n",
       "      <td>non-USA</td>\n",
       "      <td>Volkswagen Passat</td>\n",
       "    </tr>\n",
       "    <tr>\n",
       "      <th>90</th>\n",
       "      <td>91</td>\n",
       "      <td>Volkswagen</td>\n",
       "      <td>Corrado</td>\n",
       "      <td>Sporty</td>\n",
       "      <td>22.9</td>\n",
       "      <td>23.3</td>\n",
       "      <td>23.7</td>\n",
       "      <td>18</td>\n",
       "      <td>25</td>\n",
       "      <td>None</td>\n",
       "      <td>...</td>\n",
       "      <td>4</td>\n",
       "      <td>159</td>\n",
       "      <td>97</td>\n",
       "      <td>66</td>\n",
       "      <td>36</td>\n",
       "      <td>26.0</td>\n",
       "      <td>15.0</td>\n",
       "      <td>2810</td>\n",
       "      <td>non-USA</td>\n",
       "      <td>Volkswagen Corrado</td>\n",
       "    </tr>\n",
       "    <tr>\n",
       "      <th>91</th>\n",
       "      <td>92</td>\n",
       "      <td>Volvo</td>\n",
       "      <td>240</td>\n",
       "      <td>Compact</td>\n",
       "      <td>21.8</td>\n",
       "      <td>22.7</td>\n",
       "      <td>23.5</td>\n",
       "      <td>21</td>\n",
       "      <td>28</td>\n",
       "      <td>Driver only</td>\n",
       "      <td>...</td>\n",
       "      <td>5</td>\n",
       "      <td>190</td>\n",
       "      <td>104</td>\n",
       "      <td>67</td>\n",
       "      <td>37</td>\n",
       "      <td>29.5</td>\n",
       "      <td>14.0</td>\n",
       "      <td>2985</td>\n",
       "      <td>non-USA</td>\n",
       "      <td>Volvo 240</td>\n",
       "    </tr>\n",
       "    <tr>\n",
       "      <th>92</th>\n",
       "      <td>93</td>\n",
       "      <td>Volvo</td>\n",
       "      <td>850</td>\n",
       "      <td>Midsize</td>\n",
       "      <td>24.8</td>\n",
       "      <td>26.7</td>\n",
       "      <td>28.5</td>\n",
       "      <td>20</td>\n",
       "      <td>28</td>\n",
       "      <td>Driver &amp; Passenger</td>\n",
       "      <td>...</td>\n",
       "      <td>5</td>\n",
       "      <td>184</td>\n",
       "      <td>105</td>\n",
       "      <td>69</td>\n",
       "      <td>38</td>\n",
       "      <td>30.0</td>\n",
       "      <td>15.0</td>\n",
       "      <td>3245</td>\n",
       "      <td>non-USA</td>\n",
       "      <td>Volvo 850</td>\n",
       "    </tr>\n",
       "  </tbody>\n",
       "</table>\n",
       "<p>93 rows × 28 columns</p>\n",
       "</div>"
      ],
      "text/plain": [
       "    Unnamed: 0 Manufacturer    Model     Type  Min.Price  Price  Max.Price  \\\n",
       "0            1        Acura  Integra    Small       12.9   15.9       18.8   \n",
       "1            2        Acura   Legend  Midsize       29.2   33.9       38.7   \n",
       "2            3         Audi       90  Compact       25.9   29.1       32.3   \n",
       "3            4         Audi      100  Midsize       30.8   37.7       44.6   \n",
       "4            5          BMW     535i  Midsize       23.7   30.0       36.2   \n",
       "..         ...          ...      ...      ...        ...    ...        ...   \n",
       "88          89   Volkswagen  Eurovan      Van       16.6   19.7       22.7   \n",
       "89          90   Volkswagen   Passat  Compact       17.6   20.0       22.4   \n",
       "90          91   Volkswagen  Corrado   Sporty       22.9   23.3       23.7   \n",
       "91          92        Volvo      240  Compact       21.8   22.7       23.5   \n",
       "92          93        Volvo      850  Midsize       24.8   26.7       28.5   \n",
       "\n",
       "    MPG.city  MPG.highway             AirBags  ... Passengers Length  \\\n",
       "0         25           31                None  ...          5    177   \n",
       "1         18           25  Driver & Passenger  ...          5    195   \n",
       "2         20           26         Driver only  ...          5    180   \n",
       "3         19           26  Driver & Passenger  ...          6    193   \n",
       "4         22           30         Driver only  ...          4    186   \n",
       "..       ...          ...                 ...  ...        ...    ...   \n",
       "88        17           21                None  ...          7    187   \n",
       "89        21           30                None  ...          5    180   \n",
       "90        18           25                None  ...          4    159   \n",
       "91        21           28         Driver only  ...          5    190   \n",
       "92        20           28  Driver & Passenger  ...          5    184   \n",
       "\n",
       "    Wheelbase  Width  Turn.circle  Rear.seat.room Luggage.room  Weight  \\\n",
       "0         102     68           37            26.5         11.0    2705   \n",
       "1         115     71           38            30.0         15.0    3560   \n",
       "2         102     67           37            28.0         14.0    3375   \n",
       "3         106     70           37            31.0         17.0    3405   \n",
       "4         109     69           39            27.0         13.0    3640   \n",
       "..        ...    ...          ...             ...          ...     ...   \n",
       "88        115     72           38            34.0          NaN    3960   \n",
       "89        103     67           35            31.5         14.0    2985   \n",
       "90         97     66           36            26.0         15.0    2810   \n",
       "91        104     67           37            29.5         14.0    2985   \n",
       "92        105     69           38            30.0         15.0    3245   \n",
       "\n",
       "     Origin                Make  \n",
       "0   non-USA       Acura Integra  \n",
       "1   non-USA        Acura Legend  \n",
       "2   non-USA             Audi 90  \n",
       "3   non-USA            Audi 100  \n",
       "4   non-USA            BMW 535i  \n",
       "..      ...                 ...  \n",
       "88  non-USA  Volkswagen Eurovan  \n",
       "89  non-USA   Volkswagen Passat  \n",
       "90  non-USA  Volkswagen Corrado  \n",
       "91  non-USA           Volvo 240  \n",
       "92  non-USA           Volvo 850  \n",
       "\n",
       "[93 rows x 28 columns]"
      ]
     },
     "execution_count": 132,
     "metadata": {},
     "output_type": "execute_result"
    }
   ],
   "source": [
    "cars"
   ]
  },
  {
   "cell_type": "markdown",
   "id": "f358b41a",
   "metadata": {},
   "source": [
    "### Linear"
   ]
  },
  {
   "cell_type": "code",
   "execution_count": 106,
   "id": "9c47cbce",
   "metadata": {},
   "outputs": [],
   "source": [
    "from sklearn.linear_model import LinearRegression\n",
    "cols = ['Weight', 'Unnamed: 0']\n",
    "y = cars['MPG.city']\n",
    "X = cars[cols]\n",
    "li_model = LinearRegression()"
   ]
  },
  {
   "cell_type": "code",
   "execution_count": 107,
   "id": "8c06cb0a",
   "metadata": {},
   "outputs": [],
   "source": [
    "results = train_test_split(X, y, random_state=42, test_size=0.333 )\n",
    "\n",
    "X_train, X_test, y_train, y_test = results"
   ]
  },
  {
   "cell_type": "code",
   "execution_count": 108,
   "id": "dd085e2f",
   "metadata": {
    "scrolled": true
   },
   "outputs": [
    {
     "name": "stdout",
     "output_type": "stream",
     "text": [
      "0.6940930002661236\n",
      "0.7398347177829948\n"
     ]
    }
   ],
   "source": [
    "li_model.fit(X_train, y_train)\n",
    "print(li_model.score(X_train, y_train))\n",
    "print(li_model.score(X_test, y_test))"
   ]
  },
  {
   "cell_type": "code",
   "execution_count": 109,
   "id": "1c8ce8ba",
   "metadata": {},
   "outputs": [
    {
     "data": {
      "text/plain": [
       "0.7398347177829948"
      ]
     },
     "execution_count": 109,
     "metadata": {},
     "output_type": "execute_result"
    }
   ],
   "source": [
    "li_model_r2 = r2_score(y_test, li_model.predict(X_test))\n",
    "li_model_r2"
   ]
  },
  {
   "cell_type": "code",
   "execution_count": 110,
   "id": "d05cd54a",
   "metadata": {},
   "outputs": [
    {
     "data": {
      "text/plain": [
       "1.9865836732792688"
      ]
     },
     "execution_count": 110,
     "metadata": {},
     "output_type": "execute_result"
    }
   ],
   "source": [
    "mean_absolute_error(y_test, li_model.predict(X_test))"
   ]
  },
  {
   "cell_type": "code",
   "execution_count": 111,
   "id": "0437b8f7",
   "metadata": {},
   "outputs": [
    {
     "data": {
      "text/plain": [
       "6.409108107393737"
      ]
     },
     "execution_count": 111,
     "metadata": {},
     "output_type": "execute_result"
    }
   ],
   "source": [
    "mean_squared_error(y_test, li_model.predict(X_test))"
   ]
  },
  {
   "cell_type": "markdown",
   "id": "ab1bd4e3",
   "metadata": {},
   "source": [
    "### Ridge"
   ]
  },
  {
   "cell_type": "code",
   "execution_count": 112,
   "id": "7b094c1d",
   "metadata": {},
   "outputs": [
    {
     "data": {
      "text/plain": [
       "Ridge(alpha=424)"
      ]
     },
     "execution_count": 112,
     "metadata": {},
     "output_type": "execute_result"
    }
   ],
   "source": [
    "from sklearn.linear_model import Ridge\n",
    "cols = ['Weight', 'Unnamed: 0']\n",
    "y = cars['MPG.city']\n",
    "X = cars[cols]\n",
    "r_model = Ridge(alpha=424)"
   ]
  },
  {
   "cell_type": "code",
   "execution_count": 113,
   "id": "b59d20dd",
   "metadata": {},
   "outputs": [],
   "source": [
    "results = train_test_split(X, y, random_state=42, test_size=0.333 )\n",
    "\n",
    "X_train, X_test, y_train, y_test = results"
   ]
  },
  {
   "cell_type": "code",
   "execution_count": 114,
   "id": "656baedc",
   "metadata": {},
   "outputs": [
    {
     "name": "stdout",
     "output_type": "stream",
     "text": [
      "0.6940927859539272\n",
      "0.7399610448500857\n"
     ]
    }
   ],
   "source": [
    "r_model.fit(X_train, y_train)\n",
    "print(r_model.score(X_train, y_train))\n",
    "print(r_model.score(X_test, y_test))"
   ]
  },
  {
   "cell_type": "code",
   "execution_count": 115,
   "id": "ce4371ce",
   "metadata": {},
   "outputs": [
    {
     "data": {
      "text/plain": [
       "0.7399610448500857"
      ]
     },
     "execution_count": 115,
     "metadata": {},
     "output_type": "execute_result"
    }
   ],
   "source": [
    "r_model_r2 = r2_score(y_test, r_model.predict(X_test))\n",
    "r_model_r2"
   ]
  },
  {
   "cell_type": "code",
   "execution_count": 116,
   "id": "98b450bd",
   "metadata": {},
   "outputs": [
    {
     "data": {
      "text/plain": [
       "1.9853523405029336"
      ]
     },
     "execution_count": 116,
     "metadata": {},
     "output_type": "execute_result"
    }
   ],
   "source": [
    "mean_absolute_error(y_test, r_model.predict(X_test))"
   ]
  },
  {
   "cell_type": "code",
   "execution_count": 117,
   "id": "fda47e69",
   "metadata": {},
   "outputs": [
    {
     "data": {
      "text/plain": [
       "6.4059960709875865"
      ]
     },
     "execution_count": 117,
     "metadata": {},
     "output_type": "execute_result"
    }
   ],
   "source": [
    "mean_squared_error(y_test, r_model.predict(X_test))"
   ]
  },
  {
   "cell_type": "markdown",
   "id": "f21ca57b",
   "metadata": {},
   "source": [
    "### Lasso"
   ]
  },
  {
   "cell_type": "code",
   "execution_count": 118,
   "id": "dc2ad28f",
   "metadata": {},
   "outputs": [
    {
     "data": {
      "text/plain": [
       "Lasso(alpha=424)"
      ]
     },
     "execution_count": 118,
     "metadata": {},
     "output_type": "execute_result"
    }
   ],
   "source": [
    "from sklearn import linear_model\n",
    "cols = ['Weight', 'Unnamed: 0']\n",
    "y = cars['MPG.city']\n",
    "X = cars[cols]\n",
    "l_model = linear_model.Lasso(alpha=424)"
   ]
  },
  {
   "cell_type": "code",
   "execution_count": 119,
   "id": "46820fe4",
   "metadata": {},
   "outputs": [],
   "source": [
    "results = train_test_split(X, y, random_state=42, test_size=0.333 )\n",
    "\n",
    "X_train, X_test, y_train, y_test = results"
   ]
  },
  {
   "cell_type": "code",
   "execution_count": 120,
   "id": "d5d39bd1",
   "metadata": {},
   "outputs": [
    {
     "name": "stdout",
     "output_type": "stream",
     "text": [
      "0.6764612429627396\n",
      "0.7724291245773455\n"
     ]
    }
   ],
   "source": [
    "l_model.fit(X_train, y_train)\n",
    "print(l_model.score(X_train, y_train))\n",
    "print(l_model.score(X_test, y_test))"
   ]
  },
  {
   "cell_type": "code",
   "execution_count": 121,
   "id": "84824a2b",
   "metadata": {},
   "outputs": [
    {
     "data": {
      "text/plain": [
       "0.7724291245773455"
      ]
     },
     "execution_count": 121,
     "metadata": {},
     "output_type": "execute_result"
    }
   ],
   "source": [
    "l_model_r2 = r2_score(y_test, l_model.predict(X_test))\n",
    "l_model_r2"
   ]
  },
  {
   "cell_type": "code",
   "execution_count": 122,
   "id": "5d7b46fe",
   "metadata": {},
   "outputs": [
    {
     "data": {
      "text/plain": [
       "1.752994966047418"
      ]
     },
     "execution_count": 122,
     "metadata": {},
     "output_type": "execute_result"
    }
   ],
   "source": [
    "mean_absolute_error(y_test, l_model.predict(X_test))"
   ]
  },
  {
   "cell_type": "code",
   "execution_count": 123,
   "id": "37b7e79d",
   "metadata": {},
   "outputs": [
    {
     "data": {
      "text/plain": [
       "5.60615286655143"
      ]
     },
     "execution_count": 123,
     "metadata": {},
     "output_type": "execute_result"
    }
   ],
   "source": [
    "mean_squared_error(y_test, l_model.predict(X_test))"
   ]
  },
  {
   "cell_type": "markdown",
   "id": "ddb3ab17",
   "metadata": {},
   "source": [
    "### R2 Comparison\n",
    "#### X_test, y_test R2"
   ]
  },
  {
   "cell_type": "code",
   "execution_count": 124,
   "id": "98e91755",
   "metadata": {},
   "outputs": [
    {
     "name": "stdout",
     "output_type": "stream",
     "text": [
      "\n",
      "Linear Model r2: 0.7398347177829948\n",
      "\n",
      "Ridge Model r2: 0.7399610448500857 \n",
      "\n",
      "Lasso Model r2: 0.7724291245773455\n"
     ]
    }
   ],
   "source": [
    "print(f'''\n",
    "Linear Model r2: {li_model_r2}\n",
    "\n",
    "Ridge Model r2: {r_model_r2} \n",
    "\n",
    "Lasso Model r2: {l_model_r2}''')"
   ]
  },
  {
   "cell_type": "markdown",
   "id": "aab991a4",
   "metadata": {},
   "source": [
    "#### X_train, y_train R2"
   ]
  },
  {
   "cell_type": "code",
   "execution_count": 126,
   "id": "668d85ab",
   "metadata": {},
   "outputs": [
    {
     "name": "stdout",
     "output_type": "stream",
     "text": [
      "\n",
      "Linear Model r2: 0.6940930002661236\n",
      "\n",
      "Ridge Model r2 0.6940927859539272 \n",
      "\n",
      "Lasso Model r2: 0.6764612429627396\n"
     ]
    }
   ],
   "source": [
    "print(f'''\n",
    "Linear Model r2: {li_model.score(X_train, y_train)}\n",
    "\n",
    "Ridge Model r2 {r_model.score(X_train, y_train)} \n",
    "\n",
    "Lasso Model r2: {l_model.score(X_train, y_train)}''')"
   ]
  },
  {
   "cell_type": "markdown",
   "id": "5257351a",
   "metadata": {},
   "source": [
    "### Coefficient Comparison"
   ]
  },
  {
   "cell_type": "code",
   "execution_count": 102,
   "id": "d6377648",
   "metadata": {
    "scrolled": true
   },
   "outputs": [
    {
     "name": "stdout",
     "output_type": "stream",
     "text": [
      "\n",
      "Linear Model Coef: [-0.00860179 -0.01027492]\n",
      "\n",
      "Ridge Model Coef [-0.00860017 -0.01016986] \n",
      "\n",
      "Lasso Model Coef: [-0.00719077 -0.        ]\n"
     ]
    }
   ],
   "source": [
    "print(f'''\n",
    "Linear Model Coef: {li_model.coef_}\n",
    "\n",
    "Ridge Model Coef {r_model.coef_} \n",
    "\n",
    "Lasso Model Coef: {l_model.coef_}''')"
   ]
  },
  {
   "cell_type": "markdown",
   "id": "a15fe6f3",
   "metadata": {},
   "source": [
    "### Visualization"
   ]
  },
  {
   "cell_type": "code",
   "execution_count": 129,
   "id": "206cff11",
   "metadata": {},
   "outputs": [
    {
     "data": {
      "image/png": "[encoded data removed]",
      "text/plain": [
       "<Figure size 640x480 with 1 Axes>"
      ]
     },
     "metadata": {},
     "output_type": "display_data"
    }
   ],
   "source": [
    "plt.scatter(y_test, li_model.predict(X_test), label='Linear Model', color='orange')\n",
    "plt.scatter(y_test, r_model.predict(X_test), label='Ridge Model', color='grey', alpha=0.6);\n",
    "plt.scatter(y_test, l_model.predict(X_test), label='Lasso Model', color='blue', alpha=0.6);\n",
    "\n",
    "plt.plot([13, 40], [13, 40], color='black', linestyle='--')\n",
    "\n",
    "plt.xlabel('y_test')\n",
    "\n",
    "plt.ylabel('y_pred')\n",
    "\n",
    "plt.legend();"
   ]
  }
 ],
 "metadata": {
  "kernelspec": {
   "display_name": "Python 3 (ipykernel)",
   "language": "python",
   "name": "python3"
  },
  "language_info": {
   "codemirror_mode": {
    "name": "ipython",
    "version": 3
   },
   "file_extension": ".py",
   "mimetype": "text/x-python",
   "name": "python",
   "nbconvert_exporter": "python",
   "pygments_lexer": "ipython3",
   "version": "3.9.13"
  }
 },
 "nbformat": 4,
 "nbformat_minor": 5
}
